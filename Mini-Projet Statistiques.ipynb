{
 "cells": [
  {
   "cell_type": "markdown",
   "id": "499dd206",
   "metadata": {},
   "source": [
    "<h1><center>Mini-Projet de statistiques réalisé par SALIMA ZARIOUH</center></h1>\n"
   ]
  },
  {
   "cell_type": "markdown",
   "id": "dfd7515a",
   "metadata": {},
   "source": [
    "## Importation des librairies nécessaires"
   ]
  },
  {
   "cell_type": "code",
   "execution_count": 183,
   "id": "2130dda3",
   "metadata": {},
   "outputs": [],
   "source": [
    "import numpy as np\n",
    "import pandas as pd\n",
    "import matplotlib.pyplot as plt\n",
    "import scipy.stats as sc"
   ]
  },
  {
   "cell_type": "markdown",
   "id": "5360bec8",
   "metadata": {},
   "source": [
    "## Exercice 1: Exploration des données et recherche de leur loi\n",
    "### Q1 : Formation du vecteur des couts"
   ]
  },
  {
   "cell_type": "code",
   "execution_count": 184,
   "id": "721a609d",
   "metadata": {},
   "outputs": [
    {
     "data": {
      "text/plain": [
       "(216, 8)"
      ]
     },
     "execution_count": 184,
     "metadata": {},
     "output_type": "execute_result"
    }
   ],
   "source": [
    "# On utilise pandas pour récupérer les données des accidents nucléaires en lisant le fichier csv\n",
    "data = pd.read_csv('NuclearPowerAccidents2016.csv')\n",
    "data.shape"
   ]
  },
  {
   "cell_type": "markdown",
   "id": "75c02b3e",
   "metadata": {},
   "source": [
    "On remarque que notre dataframe contient 8 colonnes et 216 lignes."
   ]
  },
  {
   "cell_type": "code",
   "execution_count": 185,
   "id": "0ad8bc95",
   "metadata": {},
   "outputs": [
    {
     "data": {
      "text/html": [
       "<div>\n",
       "<style scoped>\n",
       "    .dataframe tbody tr th:only-of-type {\n",
       "        vertical-align: middle;\n",
       "    }\n",
       "\n",
       "    .dataframe tbody tr th {\n",
       "        vertical-align: top;\n",
       "    }\n",
       "\n",
       "    .dataframe thead th {\n",
       "        text-align: right;\n",
       "    }\n",
       "</style>\n",
       "<table border=\"1\" class=\"dataframe\">\n",
       "  <thead>\n",
       "    <tr style=\"text-align: right;\">\n",
       "      <th></th>\n",
       "      <th>Date</th>\n",
       "      <th>Location</th>\n",
       "      <th>Cost (millions 2013US$)</th>\n",
       "      <th>INES</th>\n",
       "      <th>Smyth Magnitude</th>\n",
       "      <th>Region</th>\n",
       "      <th>Description</th>\n",
       "      <th>Fatalities</th>\n",
       "    </tr>\n",
       "  </thead>\n",
       "  <tbody>\n",
       "    <tr>\n",
       "      <th>0</th>\n",
       "      <td>4/26/1986</td>\n",
       "      <td>Kiev, Ukraine</td>\n",
       "      <td>259336.0</td>\n",
       "      <td>7.0</td>\n",
       "      <td>8.0</td>\n",
       "      <td>EE</td>\n",
       "      <td>Mishandled reactor safety test at Chernobyl nu...</td>\n",
       "      <td>4056</td>\n",
       "    </tr>\n",
       "    <tr>\n",
       "      <th>1</th>\n",
       "      <td>3/11/2011</td>\n",
       "      <td>Fukushima Prefecture, Japan</td>\n",
       "      <td>166089.0</td>\n",
       "      <td>7.0</td>\n",
       "      <td>7.5</td>\n",
       "      <td>A</td>\n",
       "      <td>An earthquake and tsunami caused emergency bac...</td>\n",
       "      <td>573</td>\n",
       "    </tr>\n",
       "    <tr>\n",
       "      <th>2</th>\n",
       "      <td>12/8/1995</td>\n",
       "      <td>Tsuruga, Japan</td>\n",
       "      <td>15500.0</td>\n",
       "      <td>NaN</td>\n",
       "      <td>NaN</td>\n",
       "      <td>A</td>\n",
       "      <td>Japan's only fast breeder reactor Monju suffer...</td>\n",
       "      <td>0</td>\n",
       "    </tr>\n",
       "    <tr>\n",
       "      <th>3</th>\n",
       "      <td>3/28/1979</td>\n",
       "      <td>Middletown, Pennsylvania, United States</td>\n",
       "      <td>10910.0</td>\n",
       "      <td>5.0</td>\n",
       "      <td>7.9</td>\n",
       "      <td>NaN</td>\n",
       "      <td>Equipment failure and operator error contribut...</td>\n",
       "      <td>0</td>\n",
       "    </tr>\n",
       "    <tr>\n",
       "      <th>4</th>\n",
       "      <td>9/11/1957</td>\n",
       "      <td>Rocky Flats, USA</td>\n",
       "      <td>8189.0</td>\n",
       "      <td>5.0</td>\n",
       "      <td>5.2</td>\n",
       "      <td>NaN</td>\n",
       "      <td>Fire starts and destroys plutonium processing ...</td>\n",
       "      <td>0</td>\n",
       "    </tr>\n",
       "  </tbody>\n",
       "</table>\n",
       "</div>"
      ],
      "text/plain": [
       "        Date                                 Location  \\\n",
       "0  4/26/1986                            Kiev, Ukraine   \n",
       "1  3/11/2011              Fukushima Prefecture, Japan   \n",
       "2  12/8/1995                           Tsuruga, Japan   \n",
       "3  3/28/1979  Middletown, Pennsylvania, United States   \n",
       "4  9/11/1957                         Rocky Flats, USA   \n",
       "\n",
       "   Cost (millions 2013US$)  INES  Smyth Magnitude Region  \\\n",
       "0                 259336.0   7.0              8.0     EE   \n",
       "1                 166089.0   7.0              7.5      A   \n",
       "2                  15500.0   NaN              NaN      A   \n",
       "3                  10910.0   5.0              7.9    NaN   \n",
       "4                   8189.0   5.0              5.2    NaN   \n",
       "\n",
       "                                         Description  Fatalities  \n",
       "0  Mishandled reactor safety test at Chernobyl nu...        4056  \n",
       "1  An earthquake and tsunami caused emergency bac...         573  \n",
       "2  Japan's only fast breeder reactor Monju suffer...           0  \n",
       "3  Equipment failure and operator error contribut...           0  \n",
       "4  Fire starts and destroys plutonium processing ...           0  "
      ]
     },
     "execution_count": 185,
     "metadata": {},
     "output_type": "execute_result"
    }
   ],
   "source": [
    "# On utilise la fonction head() qui affiche par défaut les 5 premiéres lignes pour savoir la structure de dataframe\n",
    "data.head()"
   ]
  },
  {
   "cell_type": "code",
   "execution_count": 186,
   "id": "daf94b0a",
   "metadata": {},
   "outputs": [
    {
     "data": {
      "text/plain": [
       "Date                        object\n",
       "Location                    object\n",
       "Cost (millions 2013US$)    float64\n",
       "INES                       float64\n",
       "Smyth Magnitude            float64\n",
       "Region                      object\n",
       "Description                 object\n",
       "Fatalities                   int64\n",
       "dtype: object"
      ]
     },
     "execution_count": 186,
     "metadata": {},
     "output_type": "execute_result"
    }
   ],
   "source": [
    "# On affiche les colonnes de notre dataframe avec le type des données de chaque colonne\n",
    "data.dtypes"
   ]
  },
  {
   "cell_type": "markdown",
   "id": "5a4342c6",
   "metadata": {},
   "source": [
    "On remarque que la colonne Date est de type objet( String )."
   ]
  },
  {
   "cell_type": "code",
   "execution_count": 187,
   "id": "e18d2e89",
   "metadata": {},
   "outputs": [],
   "source": [
    "#On convertit le type de la colonne Date au type Date pour faire la comparaison avec la date de l'accident de Three Mile Island \n",
    "data['Date'] = pd.to_datetime(data['Date'])"
   ]
  },
  {
   "cell_type": "code",
   "execution_count": 188,
   "id": "12adc02b",
   "metadata": {},
   "outputs": [],
   "source": [
    "# On ne grade que les lignes des accidents (strictement) avant l’accident de Three Mile Island\n",
    "date_accident = pd.to_datetime('3/28/1979')\n",
    "data = data[data['Date'] < date_accident]\n",
    "# On supprime les lignes où le cout est non renseigné\n",
    "data = data.dropna(subset=['Cost (millions 2013US$)'])"
   ]
  },
  {
   "cell_type": "code",
   "execution_count": 189,
   "id": "1c4d5a06",
   "metadata": {},
   "outputs": [
    {
     "name": "stdout",
     "output_type": "stream",
     "text": [
      "Le nombre des observations vaut bien 55.\n"
     ]
    }
   ],
   "source": [
    "# Ainsi on peut construire le vecteur des couts \n",
    "couts_accidents= data['Cost (millions 2013US$)']\n",
    "couts_accidents.to_numpy()\n",
    "# On s'assure que le nombre des observations est bien 55\n",
    "print(\"Le nombre des observations vaut bien %d.\" % len(couts_accidents))"
   ]
  },
  {
   "cell_type": "code",
   "execution_count": 190,
   "id": "3dcd5762",
   "metadata": {},
   "outputs": [
    {
     "data": {
      "text/plain": [
       "4      8189.0\n",
       "5      4400.0\n",
       "6      3500.0\n",
       "7      2900.0\n",
       "8      2500.0\n",
       "10     1964.5\n",
       "11     1900.0\n",
       "12     1733.4\n",
       "13     1500.0\n",
       "14     1330.0\n",
       "15     1300.0\n",
       "17     1100.0\n",
       "18     1100.0\n",
       "21      990.0\n",
       "24      800.0\n",
       "25      793.9\n",
       "26      788.4\n",
       "29      541.4\n",
       "30      511.5\n",
       "33      425.2\n",
       "38      277.1\n",
       "41      180.0\n",
       "44      150.0\n",
       "52      100.0\n",
       "53      100.0\n",
       "54       99.5\n",
       "55       98.0\n",
       "56       89.9\n",
       "58       87.7\n",
       "60       84.5\n",
       "62       77.0\n",
       "70       60.1\n",
       "73       52.4\n",
       "86       38.0\n",
       "87       37.5\n",
       "95       25.7\n",
       "96       25.7\n",
       "101      17.1\n",
       "103      16.1\n",
       "106      15.0\n",
       "108      13.9\n",
       "115      11.8\n",
       "121      11.4\n",
       "130       6.1\n",
       "135       4.4\n",
       "157       1.2\n",
       "158       1.1\n",
       "161       0.0\n",
       "162       0.0\n",
       "163       0.0\n",
       "164       0.0\n",
       "165       0.0\n",
       "166       0.0\n",
       "167       0.0\n",
       "168       0.0\n",
       "Name: Cost (millions 2013US$), dtype: float64"
      ]
     },
     "execution_count": 190,
     "metadata": {},
     "output_type": "execute_result"
    }
   ],
   "source": [
    "#Affichons le vecteur des couts\n",
    "couts_accidents"
   ]
  },
  {
   "cell_type": "markdown",
   "id": "78f5fb26",
   "metadata": {},
   "source": [
    "### Q2: Construction d’un QQ-plot normal"
   ]
  },
  {
   "cell_type": "markdown",
   "id": "38ebbbe7",
   "metadata": {},
   "source": [
    "#### a)  Montrons que la fonction quantile d’une loi normale vérifie la relation donnée:"
   ]
  },
  {
   "cell_type": "markdown",
   "id": "85e4329a",
   "metadata": {},
   "source": [
    "On sait que la fonction quantile d'une loi de probabilité est l'inverse de sa fonction de répartition.<br>\n",
    " \n",
    "Notons  $ X \\sim N(\\mu,\\sigma^2)$ et $ X_{cr} \\sim N(0,1)$ est la loi centrée réduite associée à $X$:\n",
    " \n",
    "Notons $ F_{1} $ la fonction de répartition de $X$ et $ F_{2} $ celle de $ X_{cr}$ :\n",
    "\n",
    "Soit $p \\in ]0,1[$ et $x \\in \\mathbf{R}$: <br>\n",
    "\n",
    "   $$ F_{1} (x)=p \\implies P(X \\le  x) = p  $$ \n",
    "   \n",
    "   On a : $X_{cr} = \\frac{X - \\mu}{\\sigma}$\n",
    "   \n",
    "   Alors on a: $$ P( \\sigma X_{cr} + \\mu \\le  x) = P(X_{cv} \\le  \\frac{x - \\mu}{\\sigma} )  \n",
    "   \\implies F_{2}( \\frac{x- \\mu}{ \\sigma})= p $$\n",
    "\n",
    "\n",
    "   D'où  : $$  x= F_{1}^{-1}(p) \\qquad \\text{et} \\quad  x= F_{2}^{-1}(p)\\sigma +\\mu $$\n",
    "  \n",
    "\n",
    " Et sachant que: $$ F_{1}^{-1}(p)= F^{-1}(p,\\mu,\\sigma^2) \\qquad \\text{et} \\quad F_{2}^{-1}(p)=F^{-1}(p,0,1)$$\n",
    " On peut déduire que: $$ \\forall p \\in ]0,1[,  F^{-1}(p,\\mu,\\sigma^2)= F^{-1}(p,0,1)\\sqrt{\\sigma^2}+\\mu$$\n",
    "\n"
   ]
  },
  {
   "cell_type": "markdown",
   "id": "30d8bc61",
   "metadata": {},
   "source": [
    "#### b) Le QQ-plot de données pour la loi normale:"
   ]
  },
  {
   "cell_type": "code",
   "execution_count": 191,
   "id": "8e2001c4",
   "metadata": {},
   "outputs": [
    {
     "data": {
      "image/png": "[encoded data removed]",
      "text/plain": [
       "<Figure size 576x576 with 1 Axes>"
      ]
     },
     "metadata": {
      "needs_background": "light"
     },
     "output_type": "display_data"
    }
   ],
   "source": [
    "'''On a la fonction probplot de la librairie SciPy Génère un tracé de probabilité des données\n",
    "d'échantillon par rapport aux quantiles d'une distribution théorique spécifiée:\n",
    "Dans notre cas la distribution théorique est celle de la loi normale et les données sont les couts d'accidents formé dans Q1'''\n",
    "figure = plt.figure(figsize=(8,8)) # On précise la taille de figure qu'on souhaite réaliser\n",
    "x = figure.add_subplot(111) # 111 pour indiquer la grille 1x1\n",
    "res = sc.probplot(couts_accidents, dist='norm', plot=x)\n",
    "x.set_title(\"QQ-plot des couts des accidents pour la loi normale \")\n",
    "plt.show()"
   ]
  },
  {
   "cell_type": "markdown",
   "id": "cb8cbed6",
   "metadata": {},
   "source": [
    "### Q2: Construction d’un QQ-plot de données pour la loi exponentielle"
   ]
  },
  {
   "cell_type": "markdown",
   "id": "c718dc99",
   "metadata": {},
   "source": [
    "#### a) Montrons que le quantile d’une loi exponentielle de paramètre λ respecte la relation donnée:"
   ]
  },
  {
   "cell_type": "markdown",
   "id": "2a03ff64",
   "metadata": {},
   "source": [
    "Notons  $ X \\sim e(\\lambda)$ et $ X_{u} \\sim e(1)$ :\n",
    " \n",
    "Notons $ F_{1} $ la fonction de répartition de $X$ et $ F_{2} $ celle de $ X_{u}$ :\n",
    "\n",
    "Soit $p \\in ]0,1[$ et $x \\in R$: <br>\n",
    "\n",
    "   $$ F_{1} (x)=p \\implies P(X \\le  x) = p  $$ \n",
    "   \n",
    "   On a : $X_{u} = \\lambda X$\n",
    "   \n",
    "   Alors on a: $$  P(\\frac{X_{u}}{\\lambda} \\le x) = P(X_{u} \\le \\lambda x ) \\implies F_{2}(\\lambda x) = p $$\n",
    "\n",
    "\n",
    "   D'où  : $$ x= F_{1}^{-1}(p) \\qquad \\text{et} \\quad  x= \\frac{1}{\\lambda} F_{2}^{-1}(p)$$\n",
    "  \n",
    "\n",
    " Et sachant que: $$ F_{1}^{-1}(p)= F^{-1}(p,\\lambda) \\qquad \\text{et} \\quad F_{2}^{-1}(p)=F^{-1}(p,1) $$\n",
    " On peut déduire que: $$ \\forall p \\in ]0,1[,  F^{-1}(p,\\lambda)= \\frac{1}{\\lambda} F^{-1}(p,1) $$\n"
   ]
  },
  {
   "cell_type": "markdown",
   "id": "fb251d35",
   "metadata": {},
   "source": [
    "#### b) Le QQ-plot de données pour la loi exponentielle:\n"
   ]
  },
  {
   "cell_type": "code",
   "execution_count": 192,
   "id": "aecc0b6a",
   "metadata": {},
   "outputs": [
    {
     "data": {
      "image/png": "[encoded data removed]",
      "text/plain": [
       "<Figure size 576x576 with 1 Axes>"
      ]
     },
     "metadata": {
      "needs_background": "light"
     },
     "output_type": "display_data"
    }
   ],
   "source": [
    "fig = plt.figure(figsize=(8,8))\n",
    "x = fig.add_subplot(111)\n",
    "res = sc.probplot(couts_accidents, dist='expon', plot=x)\n",
    "x.set_title(\"QQ-plot des couts des accidents pour la loi exponentielle \")\n",
    "plt.show()"
   ]
  },
  {
   "cell_type": "markdown",
   "id": "3628d56d",
   "metadata": {},
   "source": [
    "### Q4 :Comparaison entre les deux QQ-plots"
   ]
  },
  {
   "cell_type": "markdown",
   "id": "592f3dcf",
   "metadata": {},
   "source": [
    "En s'appuyant sur les qq-plots obtenus, on peut déduire que la loi exponentielle est la plus plausible pour les données puisque la position des quantiles dans la population observée est trés proche à leurs position dans le cas d'une distribution exponentielle ce qui n'est pas le cas pour la loi normale."
   ]
  },
  {
   "cell_type": "markdown",
   "id": "f39b2719",
   "metadata": {},
   "source": [
    "## Exercice 2: Estimation ponctuelle des paramètres d’une loi exponentielle\n",
    "\n",
    "### Q1: Calculons l’estimateur du maximum de vraisemblance $\\hat{\\lambda_{n}}$ :"
   ]
  },
  {
   "cell_type": "markdown",
   "id": "7c992c14",
   "metadata": {},
   "source": [
    "On a : $X= (X_{1},X_{2}$,...,$X_{n}$) Avec les $ X_{i}$ sont indépendants entre eux et identiquement distribués:\n",
    "\n",
    "D'où : $$ p(x ,\\lambda)= \\prod_{\\substack{i=1}}^n p(x_{i},\\lambda)$$\n",
    "Et on sait que pour une loi exponentielle: $$p(x_{i},\\lambda) = \\lambda e^{-\\lambda x_{i}}$$\n",
    "D'où : $$ p(x ,\\lambda)= \\prod_{\\substack{i=1}}^n \\lambda e^{-\\lambda x_{i}} = \\lambda^n e^{-\\lambda \\sum\\limits_{i=1}^n x_{i}}$$ <br>\n",
    "Ce qui donne: $$  \\log (p(x ,\\lambda)) = n \\log(\\lambda) - \\lambda \\sum\\limits_{i=1}^n x_{i} $$\n",
    "\n",
    "Ainsi au maximum de vraissemblance, on a: $$ \\frac{\\partial \\log{p(x ,\\hat{\\lambda_{n}} )}}{\\partial \\lambda} =0 \\implies \\frac{n}{\\hat{\\lambda_{n}}} - \\sum\\limits_{i=1}^n x_{i} =0$$\n",
    "Et on a : $$\\frac{\\partial^2 \\log{p(x ,\\lambda )}}{\\partial \\lambda^2} = -\\frac{n}{\\lambda^2}<0$$\n",
    "\n",
    "D'où $\\hat{\\lambda_{n}}$ est un maximum global de vraissemblance, ainsi l'estimateur de maximum de vraissemblance vaut: \n",
    "\n",
    "$$\\hat{\\lambda_{n}} = \\frac{n}{\\sum\\limits_{i=1}^n x_{i}}$$\n",
    " "
   ]
  },
  {
   "cell_type": "markdown",
   "id": "57d1c9b8",
   "metadata": {},
   "source": [
    "### Q2 : L'histogramme de données et la densité de probabilité de la loi exponentielle:"
   ]
  },
  {
   "cell_type": "code",
   "execution_count": 193,
   "id": "e4933d59",
   "metadata": {},
   "outputs": [
    {
     "data": {
      "image/png": "[encoded data removed]",
      "text/plain": [
       "<Figure size 648x576 with 1 Axes>"
      ]
     },
     "metadata": {
      "needs_background": "light"
     },
     "output_type": "display_data"
    }
   ],
   "source": [
    "'''On commence par tracer l'histogramme de données en donnant au parametre de densité la valeur true \n",
    "pour tracer la densité de probabilité de chaque intervalle de cout'''\n",
    "plt.figure(figsize=(9,8))\n",
    "hist = plt.hist(couts_accidents,density=True,color=\"pink\", edgecolor=\"red\", label='Histogramme')\n",
    "plt.title(\"Histogramme de données et la densité de probabilité de la loi exponentielle\")\n",
    "plt.xlabel(\"Coût\")\n",
    "plt.ylabel(\"Densité\")\n",
    "# On trace par la suite la densité de probabilité de la loi exponentielle avec la densité estimée λn\n",
    "λn = len(couts_accidents)/sum(couts_accidents) # On utilise l'estimation trouvée dans la question précedente\n",
    "plt.plot(couts_accidents, sc.expon.pdf(couts_accidents,scale=1/λn),color=\"red\" ,label='Densité de probabilié exponentielle')\n",
    "plt.legend()\n",
    "plt.show()\n"
   ]
  },
  {
   "cell_type": "markdown",
   "id": "5b88d155",
   "metadata": {},
   "source": [
    "### Q3 :  Montrons que la statistique $T_{1}(X)$ est un estimateur efficace pour $g_{1}(\\lambda)$:"
   ]
  },
  {
   "cell_type": "markdown",
   "id": "3118e555",
   "metadata": {},
   "source": [
    "Pour montrer que $T_{1} (X) = \\frac{1}{n}\\sum\\limits_{i=1}^n x_{i}$ est un estimateur efficace pour $ g_{1}(\\lambda) = \\frac{1}{\\lambda}$ On doit montrer que: <br>\n",
    " $\\qquad \\quad  \\bullet \\quad T_{1} (X)$ est un estimateur sans biais : $$ \\mathbb{E}_{\\lambda} (T_{1} (X))=g_{1}(\\lambda)= \\frac{1}{\\lambda}$$\n",
    "    $\\qquad  \\bullet \\quad$ La variance de $T_{1} (X)$ atteint la borne de Cramér-Rao :$$\\mathbb{Var}_{\\lambda}(T_{1} (X))=\\frac{g_{1}'(\\lambda)^{2} }{I(\\lambda)} \\qquad  \\text {Avec } \\quad I(\\lambda) \\text { est l'information de Fisher} $$\n",
    "  \n",
    "On a:  $$ \\mathbb{E}_{\\lambda} (T_{1} (X)) = \\mathbb{E}_{\\lambda}(\\frac{1}{n}\\sum\\limits_{i=1}^n x_{i}) = \\frac{1}{n} \\sum\\limits_{i=1}^n \\mathbb{E}_{\\lambda} (x_{i}) = \\frac{1}{n} \\sum\\limits_{i=1}^n \\frac{1}{\\lambda} $$ \n",
    "D'où : $$ \\mathbb{E}_{\\lambda} (T_{1} (X)) = \\frac{1}{\\lambda} \\implies T_{1} (X) \\text { est bien un estimateur sans biais} $$\n",
    "\n",
    "On a : $$\\mathbb{Var}_{\\lambda}(T_{1} (X))= \\mathbb{Var}_{\\lambda}(\\frac{1}{n}\\sum\\limits_{i=1}^n x_{i}) = \\frac{1}{n^2}\\sum\\limits_{i=1}^n \\mathbb{Var}_{\\lambda}(x_{i})= \\frac{1}{n^2}\\sum\\limits_{i=1}^n \\frac{1}{\\lambda^2}  $$\n",
    "\n",
    "D'où : $$ \\mathbb{Var}_{\\lambda}(T_{1} (X))= \\frac{1}{n\\lambda^2}$$\n",
    "Et on a: $$g_{1}'(\\lambda) = -\\frac{1}{\\lambda^2} \\implies (g_{1}'(\\lambda))^2= \\frac{1}{\\lambda^4}$$\n",
    "\n",
    "Puisque $I(\\lambda)=nI_1(\\lambda) $ où $ I_1(\\lambda) $ est l'information de fisher pour une seule observation et le modéle { $P_{\\lambda},  \\lambda > 0 $} est régulier et $\\lambda \\rightarrow p_{\\lambda}(x) $ est deux fois differentiable, on a:\n",
    "\n",
    "\n",
    "$$I(\\lambda) = - n \\mathbb{E}(\\frac {\\partial^{2} \\log p_{\\lambda}(x)}{\\partial \\lambda^{2}} ) \\; et  \\;  \\log (p_{\\lambda}(x)) = \\log(\\lambda) -\\lambda x$$\n",
    "\n",
    "D'où: $$ I(\\lambda) = \\frac{n}{\\lambda^2} \\implies \\frac{g_{1}'(\\lambda)^{2} }{I(\\lambda)} = \\frac{\\lambda^2}{n}  \\frac{1}{\\lambda^4} =\\frac{1}{n\\lambda^2}  $$\n",
    "\n",
    "Donc: $$\\mathbb{Var}_{\\lambda}(T_{1} (X))=\\frac{g_{1}'(\\lambda)^{2} }{I(\\lambda)}$$\n",
    "\n",
    "Conclusion : $$ T_{1} (X) \\text{ est un estimateur efficace de }  g_{1}(\\lambda)  $$"
   ]
  },
  {
   "cell_type": "markdown",
   "id": "b3e59d24",
   "metadata": {},
   "source": [
    "### Q4 : Calculons g1 en utilisant T1 pour l’échantillon donné:"
   ]
  },
  {
   "cell_type": "code",
   "execution_count": 194,
   "id": "978a8254",
   "metadata": {},
   "outputs": [
    {
     "name": "stdout",
     "output_type": "stream",
     "text": [
      "g1 vaut alors: 726.336364\n"
     ]
    }
   ],
   "source": [
    "T1= sum(couts_accidents)/len(couts_accidents)\n",
    "print(\"g1 vaut alors: %f\" %T1 )"
   ]
  },
  {
   "cell_type": "markdown",
   "id": "f5207d8d",
   "metadata": {},
   "source": [
    "### Q5 : Trouvons les valeurs  η où la relation est vérifiée:"
   ]
  },
  {
   "cell_type": "markdown",
   "id": "57ba8bfb",
   "metadata": {},
   "source": [
    "Soit $\\lambda >0$, on a : $ \\tilde{T_{1 , \\eta}}(X) = \\eta T_{1}(X) \\qquad  \\text{ Avec } \\quad  T_{1}(X)=\\frac{1}{n}\\sum\\limits_{i=1}^n x_{i}$ <br>\n",
    "On a déja montré dans la question précédente que $ T_{1}$ est un estimateur sans biais avec : $$ \\mathbb{Var}_{\\lambda}(T_{1} (X))= \\frac{1}{n\\lambda^2}$$\n",
    "D'où : $$R(\\lambda, T_{1})= \\frac{1}{n \\lambda^2}$$\n",
    "Et on a : $$R(\\lambda,\\tilde{T_{1 , \\eta}}) = R(\\lambda, \\eta T_{1}(X)) = biais(\\eta T_{1}(X))^2 + \\mathbb{Var}_{\\lambda}( \\eta T_{1} (X))$$\n",
    "Avec : $$\\mathbb{Var}_{\\lambda}( \\eta T_{1} (X))= \\eta^2 \\mathbb{Var}_{\\lambda}(T_{1} (X)) = \\frac{\\eta ^2}{n \\lambda^2}$$\n",
    "Et: $$ bais(\\eta T_{1}(X))= E_{\\lambda} \\left(\\frac{\\eta}{n}\\sum\\limits_{i=1}^n x_{i} -\\frac{1}{\\lambda}\\right) = \\frac{\\eta}{n} \\sum\\limits_{i=1}^n E_{\\lambda}(x_{i}) -\\frac{1}{\\lambda} \\qquad  \\text{ Avec } \\quad E_{\\lambda}(x_{i}) =\\frac{1}{\\lambda}$$\n",
    "D'où:  $$ biais(\\eta T_{1}(X)) = \\frac{\\eta -1}{\\lambda}$$\n",
    "\n",
    "Alors, on a: $$R(\\lambda,\\tilde{T_{1 , \\eta}})= \\left( \\frac{\\eta -1 }{\\lambda}\\right) ^2 + \\frac{\\eta^2}{n \\lambda^2}$$\n",
    "\n",
    "Ainsi : $$R(\\lambda,\\tilde{T_{1 , \\eta}}) <R(\\lambda, T_{1})  \\implies \\left(\\frac{\\eta -1}{\\lambda} \\right)^2 + \\frac{\\eta^2}{n\\lambda^2} < \\frac{1}{n\\lambda^2}\\implies (\\eta -1)^2 < \\frac{1-\\eta^2}{n}$$\n",
    "\n",
    "On a : $(\\eta -1)^2 > 0 \\implies 1-\\eta^2 >0 \\implies \\eta < 1 \\quad  \\text{ Ainsi en divisant les deux parties de l'inégalité par} \\quad  1-\\eta >0 $, on obtient: \n",
    "$$ 1-\\eta < \\frac{1+\\eta}{n} \\implies \\eta \\left(\\frac{n+1}{n}\\right) > \\frac{n-1}{n} \\implies \\eta > \\frac{n-1}{n+1} $$\n",
    "\n",
    "Ainsi on conclut que l'inégalité est valide pour les valeurs de $\\eta \\in {\\left ]\\frac{n-1}{n+1},1 \\right[}$"
   ]
  },
  {
   "cell_type": "markdown",
   "id": "932ae21f",
   "metadata": {},
   "source": [
    "Le résultat trouvé n'est pas en contradiction avec la question précédente car meme si on a trouvé un estimateur dont l'erreur quadratique est inférieure à celui de $T_{1}(X)$ sur une intervalle donnée, cet estimateur n'est pas efficace vu qu'il est biaisé : Pour $\\eta < 1$, on a: $biais( \\tilde{T_{1 , \\eta}}) >0$."
   ]
  },
  {
   "cell_type": "markdown",
   "id": "14e6032a",
   "metadata": {},
   "source": [
    "### Q6 : L'estimateur sans biais de la médiane:"
   ]
  },
  {
   "cell_type": "markdown",
   "id": "4adb3052",
   "metadata": {},
   "source": [
    "Puisque la variable aléatoire X suit une loi exponenetielle de paramétre $\\lambda$ ,la médiane vaut : $\\frac{\\ln(2)}{\\lambda}$ <br>\n",
    "\n",
    "Ainsi pour que $\\tilde{T_{1 , \\eta}}$ soit une loi sans biais de la médiane :\n",
    "$$ E_{\\lambda}(\\tilde{T_{1 , \\eta}}(X)) = \\frac{\\ln(2)}{\\lambda} \\implies \\frac{\\eta}{\\lambda}= \\frac{\\ln(2)}{\\lambda} \\implies \\eta= \\ln(2) $$"
   ]
  },
  {
   "cell_type": "markdown",
   "id": "7a586a00",
   "metadata": {},
   "source": [
    "##### Calculons l'estimateur $\\tilde{T_{1 , \\eta}} $ pour la valeur de  $\\eta $ trouvée et le comparer avec la médiane empirique:"
   ]
  },
  {
   "cell_type": "code",
   "execution_count": 195,
   "id": "fee44551",
   "metadata": {},
   "outputs": [
    {
     "name": "stdout",
     "output_type": "stream",
     "text": [
      " La valeur de l'estimateur de la médiane pour l'échantillon donné vaut : 503.458003\n",
      " La valeur de la médiane empirique vaut : 89.900000\n"
     ]
    }
   ],
   "source": [
    "estimateur= np.log(2)*sum(couts_accidents)/len(couts_accidents) # On remplace 𝜂 par la valeur trouvée\n",
    "print(\" La valeur de l'estimateur de la médiane pour l'échantillon donné vaut : %f\" %estimateur)\n",
    "mediane= np.median(couts_accidents) # La valeur de la médiane empirique\n",
    "print(\" La valeur de la médiane empirique vaut : %f\" %mediane)\n"
   ]
  },
  {
   "cell_type": "markdown",
   "id": "8e7a88d0",
   "metadata": {},
   "source": [
    "On constate qu'il y a une différence importante entre la valeur de l'estimateur de médiane et celle de la médiane empirique.\n",
    "Pour cette échantillon avec n=55, $\\eta $ n'appartient pas à l'intervalle trouvé dans la question 5, d'où la valeur de risque est importante et cet estimateur n'est pas un bon estimateur."
   ]
  },
  {
   "cell_type": "markdown",
   "id": "e80df3de",
   "metadata": {},
   "source": [
    "### Q7 :  Comparons les risques quadratiques de $T_{1}(X) $ et  $\\tilde{T_{1 , \\eta}} $ en fonction de la taille de l'échantillon:"
   ]
  },
  {
   "cell_type": "markdown",
   "id": "794b7747",
   "metadata": {},
   "source": [
    "On a déja montré dans la question 5 que: \n",
    "$$R(\\lambda, T_{1})= \\frac{1}{n \\lambda^2} \\quad \\text{et } \\quad  R(\\lambda,\\tilde{T_{1 , \\eta}})= \\left( \\frac{\\eta -1 }{\\lambda}\\right) ^2 + \\frac{\\eta^2}{n \\lambda^2}$$\n",
    "Alors pour $\\eta= \\ln(2)$, on a : $$ R(\\lambda, T_{1})= \\frac{1}{n \\lambda^2} \\quad \\text{et } \\quad R(\\lambda,\\tilde{T_{1 , \\eta}}) \\approx \\frac{0.0941587}{\\lambda^2} + \\frac{0.480453}{n\\lambda^2} $$\n",
    "Ainsi pour comparer les deux risques, il suffit de comparer : $$\\frac{1}{n} \\quad \\text{et } \\quad 0.0941587 + \\frac{0.480453}{n} $$\n",
    "D'où on a : $$R(\\lambda,\\tilde{T_{1 , \\eta}}) <R(\\lambda, T_{1}) \\implies 0.0941587 + \\frac{0.480453}{n}< \\frac{1}{n} \\implies n < 5,51778$$"
   ]
  },
  {
   "cell_type": "markdown",
   "id": "657db783",
   "metadata": {},
   "source": [
    "Pour notre échantillon avec n=55, on a l'erreur quadratique moyenne de $T_{1}$ est plus petit que celui de $\\tilde{T_{1 , \\eta}}$, ainsi $T_{1}$ est un estimateur meilleur que $\\tilde{T_{1 , \\eta}}$ pour $\\eta= \\ln(2)$."
   ]
  },
  {
   "cell_type": "markdown",
   "id": "2477fc4c",
   "metadata": {},
   "source": [
    "## Exercice 3:Test sur le paramètre d’une loi\n"
   ]
  },
  {
   "cell_type": "markdown",
   "id": "b3b13df4",
   "metadata": {},
   "source": [
    "### Q1: Formulons l'hypothése null et l'hypothése alternative:"
   ]
  },
  {
   "cell_type": "markdown",
   "id": "4abeab93",
   "metadata": {},
   "source": [
    "On souhaite affirmer avec un faible risque d’erreur que le coût moyen d’un accident est inférieur à un milliard de dollars, d'où: <br>\n",
    "L'hpothése null est : $$H_{0}=  \\left\\{ E_{\\lambda}(X) < 1000 \\right\\} $$\n",
    "Et puisque X suit une loi exponentielle de paramétre $\\lambda $  :$$ H_{0}=  \\left\\{\\frac{1}{\\lambda}< 1000 , \\lambda>0 \\right\\} =  \\left\\{\\lambda > 0.001  \\right\\}$$\n",
    "Et l'hypothése alternative vaut: $$ H_{1}=  \\left\\{ \\frac{1}{\\lambda} \\ge 1000 ,\\lambda>0 \\right\\} = \\left\\{ \\lambda \\le 0.001 ,\\lambda>0 \\right\\} $$"
   ]
  },
  {
   "cell_type": "markdown",
   "id": "e08484a1",
   "metadata": {},
   "source": [
    "### Q2 :  Donnons le test le plus puissant pour le niveau $\\alpha$ en utilisant le principe de Neyman-Pearson:"
   ]
  },
  {
   "cell_type": "markdown",
   "id": "f35b5ef1",
   "metadata": {},
   "source": [
    "On a : $$ L (x_{1},x_{2},...,\\lambda) = \\prod_{i=1}^{n} p_{\\lambda}(x_{i}) =  \\prod_{i=1}^{n} \\lambda e^{-\\lambda x_{i}} =\\lambda^n  e^{-\\lambda\\sum\\limits_{i=1}^n x_{i}}$$\n",
    "\n",
    "Et on a d'aprés le théorème de Neyman-Pearson, le test le plus puissant pour le niveau $\\alpha$ est défini par:\n",
    "\n",
    "$$ \\frac{L (x_{1},x_{2},...,\\lambda_{0})}{L (x_{1},x_{2},...,\\lambda_{1})} < K_{\\alpha} \\implies \\left( \\frac{\\lambda_{0}}{\\lambda_{1}} \\right)^n  e^{-(\\lambda_{0}-\\lambda_{1})\\sum\\limits_{i=1}^n x_{i}}  < K_{\\alpha} \\implies   \\left( \\frac{\\lambda_{0}}{\\lambda_{1}} \\right)^n  e^{-(\\lambda_{0}-\\lambda_{1}) T(X)}  < K_{\\alpha} \\quad \\text{qui est croissante en  }  \\quad T(X)=\\sum\\limits_{i=1}^n x_{i}$$\n",
    "\n",
    "D'où: $$ T(X) > \\frac{log\\left(K_{\\alpha}\\left(\\frac{\\lambda_{1}}{\\lambda_{0}}\\right)^n\\right)}{\\lambda_{1}-\\lambda_{0}} = C_{\\alpha}\\quad \\text{car } \\qquad \\lambda_{0} > \\lambda_{1}  $$ \n",
    "et puisque les $ X_{i} $ suivent une loi exponenetielle et ils sont indépendants entre eux, alors :\n",
    "$$ T(X) \\sim \\Gamma(n,\\lambda)$$\n",
    "Ainsi : $$\\alpha = P(T(X) > C_{\\alpha}) \\qquad \\text{Avec }  \\qquad T(X) \\sim \\Gamma(n,\\lambda) $$"
   ]
  },
  {
   "cell_type": "markdown",
   "id": "b7e8bbf7",
   "metadata": {},
   "source": [
    "### Q3: Appliquons le test pour l’échantillon considéré au niveau $\\alpha$ = 0.05:"
   ]
  },
  {
   "cell_type": "code",
   "execution_count": 196,
   "id": "b9299cc0",
   "metadata": {},
   "outputs": [
    {
     "name": "stdout",
     "output_type": "stream",
     "text": [
      "On accepte l'hypothése H0 au niveau alpha=0.05, ainsi  on peut affirmer que le coût moyen d’accident est inférieur à un milliard de dollars\n"
     ]
    }
   ],
   "source": [
    "T = sum(couts_accidents) # On définit T pour notre échantillon\n",
    "C = sc.gamma.ppf(a=55,q=0.95,scale=1000)\n",
    "if T> C:\n",
    "    print(\" T se trouve dans la zone de rejet de l'hypothése H0 au niveau alpha=0.05\")\n",
    "else:\n",
    "    print(\"On accepte l'hypothése H0 au niveau alpha=0.05, ainsi  on peut affirmer que le coût moyen d’accident \"\n",
    "          \"est inférieur à un milliard de dollars\")\n"
   ]
  },
  {
   "cell_type": "markdown",
   "id": "466cf2ff",
   "metadata": {},
   "source": [
    "#### On calcule maintenant la valeur de p-valeur:"
   ]
  },
  {
   "cell_type": "code",
   "execution_count": 197,
   "id": "f513885b",
   "metadata": {},
   "outputs": [
    {
     "name": "stdout",
     "output_type": "stream",
     "text": [
      "La valeur de p_valeur vaut 0.986283 \n"
     ]
    }
   ],
   "source": [
    "p_valeur = 1 - sc.gamma.cdf(T,a=55,scale=1000)\n",
    "print(\"La valeur de p_valeur vaut %f \" %p_valeur)"
   ]
  },
  {
   "cell_type": "markdown",
   "id": "85910a6b",
   "metadata": {},
   "source": [
    "On trouve la valeur de p_valeur supérieure à 0,95 d'où $H_{0}$ ne peut pas etre rejetée et elle est acceptée."
   ]
  },
  {
   "cell_type": "markdown",
   "id": "0cb5a255",
   "metadata": {},
   "source": [
    "### Q4: Traçons la densité de probabilité de T1 en indiquant la région du rejet au niveau α = 0.05:"
   ]
  },
  {
   "cell_type": "code",
   "execution_count": 198,
   "id": "358dae3d",
   "metadata": {},
   "outputs": [
    {
     "data": {
      "image/png": "[encoded data removed]",
      "text/plain": [
       "<Figure size 648x648 with 1 Axes>"
      ]
     },
     "metadata": {
      "needs_background": "light"
     },
     "output_type": "display_data"
    }
   ],
   "source": [
    "plt.figure(figsize=(9,9))\n",
    "x=np.linspace(sc.gamma.ppf(0.001, a=55),sc.gamma.ppf(0.999, a=55))\n",
    "y=sc.gamma.pdf(x, a=55) # la densité de probabilité\n",
    "k=sc.gamma.ppf(0.95,a=55) # la quantile qui correspond à 0.95\n",
    "plt.plot(x,y, label=\"densité de la loi gamma\")\n",
    "plt.fill_between(x[x >= k], y[x >= k], facecolor='red')\n",
    "plt.axvline(x = k, color = \"red\", linestyle = \"-\", label=\"région de rejet pour α = 0.05\")\n",
    "plt.title(\"La densité de probabilité de T1  \")\n",
    "plt.legend()\n",
    "plt.show()"
   ]
  },
  {
   "cell_type": "markdown",
   "id": "85783b1c",
   "metadata": {},
   "source": [
    "### Q5: Traçons la fonction puissance de test pour le niveau $\\alpha$ donné:"
   ]
  },
  {
   "cell_type": "code",
   "execution_count": 199,
   "id": "60eb64e3",
   "metadata": {},
   "outputs": [
    {
     "data": {
      "image/png": "[encoded data removed]",
      "text/plain": [
       "<Figure size 576x576 with 1 Axes>"
      ]
     },
     "metadata": {
      "needs_background": "light"
     },
     "output_type": "display_data"
    }
   ],
   "source": [
    "plt.figure(figsize=(8,8))\n",
    "tailles = [10, 50, 100, 500, 10000]\n",
    "x=np.linspace(0.00001,0.001) #car on s'interesse aux valeurs de lambda<0.001\n",
    "k=sc.gamma.ppf(0.95,a=55,scale=1000) # retourne la quantille pour α =0.05\n",
    "for n in tailles :\n",
    "    y=1-sc.gamma.cdf(k,a=n,scale=1/x) # La puissance est mesurée par 1- (la fonction de répartition=cdf)\n",
    "    plt.plot(x,y,label=n)\n",
    "plt.xlabel(\"λ\")\n",
    "plt.ylabel(\"Fonction de Puissance de Test\")\n",
    "plt.title(\"la fonction puissance de test pour le niveau α en fonction de λ\")\n",
    "plt.legend()\n",
    "plt.show()\n"
   ]
  },
  {
   "cell_type": "markdown",
   "id": "511aa193",
   "metadata": {},
   "source": [
    "#### Explication des résultats:"
   ]
  },
  {
   "cell_type": "markdown",
   "id": "429bd4a4",
   "metadata": {},
   "source": [
    "On constate que lorsque $\\lambda$ tend vers 0.001, les puissances pour les grandes valeurs de n tendent vers 1."
   ]
  },
  {
   "cell_type": "markdown",
   "id": "a2ef3cc0",
   "metadata": {},
   "source": [
    "### Q6: En utilisant le théorème centrale limite, donnons une approximation de la loi de T1:"
   ]
  },
  {
   "cell_type": "markdown",
   "id": "da958008",
   "metadata": {},
   "source": [
    "On a :$T_{1} (X) = \\frac{1}{n}\\sum\\limits_{i=1}^n x_{i}$ d'où $T_{1} (X)$ présente la somme des variables aléatoires qui suivent indépendament la meme loi: <br>\n",
    "Ainsi d'aprés le théorème de centrale limite, pour les grandes valeurs de n on a : $T_{1} (X) \\sim N (\\mu, \\sigma^2)$ <br>\n",
    "Avec : $$ \\mu = E(T_{1} (X)) = \\frac{1}{\\lambda} \\quad \\text{Et } \\quad \\sigma^2=  \\mathbb{Var}_{\\lambda}(T_{1} (X))= \\frac{1}{n\\lambda^2}$$\n",
    "D'où: $$T_{1} (X) \\sim N (\\frac{1}{\\lambda}, \\frac{1}{n\\lambda^2})$$"
   ]
  },
  {
   "cell_type": "markdown",
   "id": "90f374f2",
   "metadata": {},
   "source": [
    "#### Proposons un nouveau test et donnons son résultat:"
   ]
  },
  {
   "cell_type": "markdown",
   "id": "c3d91d0c",
   "metadata": {},
   "source": [
    "On a trouvé dans la question 2 que la zone de rejet de l'hypothése $H_{0}$ correspond à $ T(X)=\\sum\\limits_{i=1}^n x_{i} > C_{\\alpha}$ <br>\n",
    "Définissons la loi centrée réduite associée à $ T(X) \\sim N (\\frac{n}{\\lambda_{0}}, \\frac{n}{\\lambda_{0}^2}) $:$$T_{cr}(X) = \\frac{T(X)-\\frac{n}{\\lambda_0}}{\\frac{\\sqrt{n}}{\\lambda_0}} \\sim N(0,1)$$\n",
    "On a : $$T(X) > C_{\\alpha} \\implies T_{cr}(X)> \\frac{C_{\\alpha}-\\frac{n}{\\lambda_0}}{\\frac{\\sqrt{n}}{\\lambda_0}}$$\n",
    "Ainsi $ \\frac{C_{\\alpha}-\\frac{n}{\\lambda_0}}{\\frac{\\sqrt{n}}{\\lambda_0}}$ présente le quantille d'ordre $1-\\alpha$ de la loi normale centrée réduite. $ $"
   ]
  },
  {
   "cell_type": "code",
   "execution_count": 200,
   "id": "043a5338",
   "metadata": {},
   "outputs": [
    {
     "name": "stdout",
     "output_type": "stream",
     "text": [
      "On accepte l'hypothése H0 au niveau alpha=0.05, ainsi  on peut affirmer que le coût moyen d’accident est inférieur à un milliard de dollars\n"
     ]
    }
   ],
   "source": [
    "C = sc.norm.ppf(0.95)*(np.sqrt(55)/0.001)+55/0.001 # On applique la relation trouvée avec n=55 et 𝜆0=0.001\n",
    "if T> C:\n",
    "    print(\" T se trouve dans la zone de rejet de l'hypothése H0 au niveau alpha=0.05\")\n",
    "else:\n",
    "    print(\"On accepte l'hypothése H0 au niveau alpha=0.05, ainsi  on peut affirmer que le coût moyen d’accident \"\n",
    "          \"est inférieur à un milliard de dollars\")"
   ]
  },
  {
   "cell_type": "markdown",
   "id": "8d0bc885",
   "metadata": {},
   "source": [
    "<h2><center>FIN</center></h2>"
   ]
  }
 ],
 "metadata": {
  "kernelspec": {
   "display_name": "Python 3 (ipykernel)",
   "language": "python",
   "name": "python3"
  },
  "language_info": {
   "codemirror_mode": {
    "name": "ipython",
    "version": 3
   },
   "file_extension": ".py",
   "mimetype": "text/x-python",
   "name": "python",
   "nbconvert_exporter": "python",
   "pygments_lexer": "ipython3",
   "version": "3.9.12"
  }
 },
 "nbformat": 4,
 "nbformat_minor": 5
}
